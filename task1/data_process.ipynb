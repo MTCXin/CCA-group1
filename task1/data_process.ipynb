{
 "cells": [
  {
   "cell_type": "code",
   "execution_count": 1,
   "metadata": {},
   "outputs": [],
   "source": [
    "import pandas as pd\n",
    "import glob\n",
    "import os\n",
    "\n",
    "source_folder = './rawdata/measurements'  \n",
    "target_folder = './processedcsv' \n",
    "if not os.path.exists(target_folder):\n",
    "    os.makedirs(target_folder)\n",
    "\n",
    "file_pattern = os.path.join(source_folder, '*-measure-*.txt')\n",
    "files = glob.glob(file_pattern)\n",
    "\n",
    "for file_path in files:\n",
    "    with open(file_path, 'r') as file:\n",
    "        lines = []\n",
    "        for line in file:\n",
    "            if line.startswith('Warning'):\n",
    "                break\n",
    "            lines.append(line)\n",
    "\n",
    "        df = pd.DataFrame([x.split() for x in lines[1:]],\n",
    "                          columns=lines[0].split())\n",
    "\n",
    "        base_name = os.path.basename(file_path)  \n",
    "        new_file_name = base_name.replace('.txt', '.csv')  \n",
    "        csv_path = os.path.join(target_folder, new_file_name)\n",
    "\n",
    "        df.to_csv(csv_path, index=False)\n",
    "\n"
   ]
  },
  {
   "cell_type": "code",
   "execution_count": null,
   "metadata": {},
   "outputs": [],
   "source": []
  }
 ],
 "metadata": {
  "kernelspec": {
   "display_name": "Python 3",
   "language": "python",
   "name": "python3"
  },
  "language_info": {
   "codemirror_mode": {
    "name": "ipython",
    "version": 3
   },
   "file_extension": ".py",
   "mimetype": "text/x-python",
   "name": "python",
   "nbconvert_exporter": "python",
   "pygments_lexer": "ipython3",
   "version": "3.12.2"
  }
 },
 "nbformat": 4,
 "nbformat_minor": 2
}
